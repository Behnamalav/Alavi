{
 "cells": [
  {
   "cell_type": "code",
   "execution_count": null,
   "id": "da34fba0-6bcc-42a1-9d6c-36aad7d20399",
   "metadata": {},
   "outputs": [],
   "source": [
    "import pandas as pd\n",
    "import matplotlib.pyplot as plt\n",
    "import seaborn as sns\n",
    "from itertools import product\n",
    "import os"
   ]
  },
  {
   "cell_type": "code",
   "execution_count": null,
   "id": "1d5128f9-9dc8-45d0-a6b8-260109ce45bb",
   "metadata": {},
   "outputs": [],
   "source": [
    "file_path = r'/Users/behnam/Library/CloudStorage/OneDrive-McMasterUniversity/Works/data_for_macc_without_index_names_2024- revised.csv'\n",
    "base = pd.read_csv(file_path)\n",
    "base['FISCAL_DATE'] = pd.to_datetime(base['FISCAL_DATE'])\n",
    "basic = base.set_index('FISCAL_DATE')\n",
    "basic"
   ]
  },
  {
   "cell_type": "code",
   "execution_count": null,
   "id": "99cdd279-f1d7-46d8-94f6-3711fe2f1c17",
   "metadata": {},
   "outputs": [],
   "source": [
    "basic.shape"
   ]
  },
  {
   "cell_type": "code",
   "execution_count": null,
   "id": "2038a230-e2db-44e3-b48a-de9fd18974cf",
   "metadata": {},
   "outputs": [],
   "source": [
    "missing_values = basic[basic.isna().any(axis=1)]\n",
    "print(\"Rows with NaN values:\\n\", missing_values)"
   ]
  },
  {
   "cell_type": "code",
   "execution_count": null,
   "id": "ddc9cc24-fd92-4e5f-9a1d-257940dd41ee",
   "metadata": {},
   "outputs": [],
   "source": [
    "basic = basic.dropna()"
   ]
  },
  {
   "cell_type": "code",
   "execution_count": null,
   "id": "b46d1a3a-3353-44d5-bd2a-38a73416baa6",
   "metadata": {},
   "outputs": [],
   "source": [
    "basic.shape"
   ]
  },
  {
   "cell_type": "code",
   "execution_count": null,
   "id": "0d2ed0b3-c48c-4713-885e-e791e89a5a43",
   "metadata": {},
   "outputs": [],
   "source": [
    "basic.columns = basic.columns.str.strip()\n",
    "basic.loc[basic['$ Gross booking Value'] < 0, '$ Gross booking Value'] = 0\n",
    "basic.loc[basic[' Revenue'] < 0, ' Revenue'] = 0\n",
    "basic"
   ]
  },
  {
   "cell_type": "code",
   "execution_count": null,
   "id": "9a1a611e-db23-450f-aa62-06a0c2c00f9d",
   "metadata": {},
   "outputs": [],
   "source": [
    "basic['$ Profit'].plot(figsize=(15, 5))\n",
    "plt.title('Time Series Plot of Profit')\n",
    "plt.xlabel('Date')\n",
    "plt.ylabel('Values')\n",
    "plt.show()"
   ]
  },
  {
   "cell_type": "code",
   "execution_count": null,
   "id": "1d3af20d-74e3-40a1-bfeb-15c3cf9d25f5",
   "metadata": {},
   "outputs": [],
   "source": [
    "df_seasonal = basic.copy()\n",
    "df_seasonal['Year'] = df_seasonal.index.year\n",
    "df_seasonal['Month'] = df_seasonal.index.month\n",
    "\n",
    "pivot_table = df_seasonal.pivot_table(values='$ Profit', index='Year', columns='Month', aggfunc='mean')\n",
    "\n",
    "sns.heatmap(pivot_table, annot=True, fmt=\".1f\", linewidths=.5)\n",
    "plt.title('Seasonal Subseries Plot')\n",
    "plt.xlabel('Month')\n",
    "plt.ylabel('Year')\n",
    "plt.show()"
   ]
  },
  {
   "cell_type": "code",
   "execution_count": null,
   "id": "737486c7-2d83-4d43-a568-cb80aa7bce90",
   "metadata": {},
   "outputs": [],
   "source": [
    "spring_data = basic[basic.index.month.isin([3, 4, 5])]\n",
    "summer_data = basic[basic.index.month.isin([6, 7, 8])]\n",
    "autumn_data = basic[basic.index.month.isin([9, 10, 11])]\n",
    "winter_data = basic[basic.index.month.isin([12, 1, 2])]"
   ]
  },
  {
   "cell_type": "code",
   "execution_count": null,
   "id": "b268f9e0-189d-44c4-aafd-a0b45c690050",
   "metadata": {},
   "outputs": [],
   "source": [
    "june_2022_data = basic[(basic.index.month == 6) & (basic.index.year == 2022)]\n",
    "june_2022_data.to_csv('C:\\\\Users\\\\Alavis1\\\\Documents\\\\Post doc\\\\Works\\\\Visuals\\\\june_2022_data.csv', index=True)\n",
    "june_2022_data"
   ]
  },
  {
   "cell_type": "code",
   "execution_count": null,
   "id": "82b5e5ff-76d2-4d15-9e71-938bf64c9701",
   "metadata": {},
   "outputs": [],
   "source": [
    "def save_data_subsets(data, combinations, output_directory):\n",
    "    os.makedirs(output_directory, exist_ok=True)  \n",
    "    for comb in combinations:\n",
    "        subset = data[(data['brand_index'] == comb[0]) & \n",
    "                      (data['Point of Sale Country (Customer Location)'] == comb[1]) &\n",
    "                      (data['Point of Sale Country (Region Location)'] == comb[2]) &\n",
    "                      (data['Marketing Sub Channel'] == comb[3])]\n",
    "        if not subset.empty:\n",
    "            filename = f'subset_brand{comb[0]}_loc{comb[1]}_reg{comb[2]}_chan{comb[3]}.csv'\n",
    "            filepath = os.path.join(output_directory, filename)\n",
    "            subset.to_csv(filepath, index=False)\n",
    "            print(f\"Saved: {filepath}\")\n",
    "\n",
    "brands = june_2022_data['brand_index'].unique()\n",
    "locations = june_2022_data['Point of Sale Country (Customer Location)'].unique()\n",
    "regions = june_2022_data['Point of Sale Country (Region Location)'].unique()\n",
    "channels = june_2022_data['Marketing Sub Channel'].unique()\n",
    "\n",
    "combinations = list(product(brands, locations, regions, channels))\n",
    "\n",
    "output_directory = r'C:\\Users\\Alavis1\\Documents\\Post doc\\Works\\DataSubsets'\n",
    "\n",
    "save_data_subsets(june_2022_data, combinations, output_directory)"
   ]
  },
  {
   "cell_type": "code",
   "execution_count": null,
   "id": "dbd2b438-6178-43c7-8586-9fe735afd8ee",
   "metadata": {},
   "outputs": [],
   "source": [
    "def generate_scatter_plots(data, combinations, output_pdf_path):\n",
    "    with PdfPages(output_pdf_path) as pdf:\n",
    "        for comb in combinations:\n",
    "            plt.figure(figsize=(10, 6))\n",
    "            subset = data[(data['brand_index'] == comb[0]) & \n",
    "                          (data['Point of Sale Country (Customer Location)'] == comb[1]) &\n",
    "                          (data['Point of Sale Country (Region Location)'] == comb[2]) &\n",
    "                          (data['Marketing Sub Channel'] == comb[3])]\n",
    "            if subset.empty:\n",
    "                plt.close()\n",
    "                continue\n",
    "            \n",
    "            subset = subset.sort_values(by='$ Advertising Cost')\n",
    "            \n",
    "            X = subset['$ Advertising Cost']\n",
    "            y = subset['$ Profit']\n",
    "            X = sm.add_constant(X)  \n",
    "            model = sm.OLS(y, X).fit()\n",
    "            \n",
    "            predictions = model.get_prediction(X)\n",
    "            pred_df = predictions.summary_frame(alpha=0.05)  # 95% CI\n",
    "\n",
    "            plt.scatter(subset['$ Advertising Cost'], subset['$ Profit'], s=100)\n",
    "            plt.plot(subset['$ Advertising Cost'], pred_df['mean'], color='blue')\n",
    "            plt.fill_between(subset['$ Advertising Cost'], pred_df['mean_ci_lower'], pred_df['mean_ci_upper'], color='blue', alpha=0.2)\n",
    "            plt.fill_between(subset['$ Advertising Cost'], pred_df['obs_ci_lower'], pred_df['obs_ci_upper'], color='green', alpha=0.2)\n",
    "            plt.title(f'Profit vs. Cost - Brand: {comb[0]}, Location: {comb[1]}, Region: {comb[2]}, Channel: {comb[3]}')\n",
    "            plt.xlabel('Advertising Cost')\n",
    "            plt.ylabel(' Profit')\n",
    "            plt.grid(True)\n",
    "            pdf.savefig()\n",
    "            plt.close()\n",
    "\n",
    "output_pdf_path = r'C:\\Users\\Alavis1\\Documents\\Post doc\\Works\\Visuals\\all_combinations_plots_CI2.pdf'\n",
    "generate_scatter_plots(june_2022_data, combinations, output_pdf_path)\n"
   ]
  }
 ],
 "metadata": {
  "kernelspec": {
   "display_name": "Python 3 (ipykernel)",
   "language": "python",
   "name": "python3"
  },
  "language_info": {
   "codemirror_mode": {
    "name": "ipython",
    "version": 3
   },
   "file_extension": ".py",
   "mimetype": "text/x-python",
   "name": "python",
   "nbconvert_exporter": "python",
   "pygments_lexer": "ipython3",
   "version": "3.11.7"
  }
 },
 "nbformat": 4,
 "nbformat_minor": 5
}
